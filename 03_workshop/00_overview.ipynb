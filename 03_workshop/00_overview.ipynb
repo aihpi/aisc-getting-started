{
 "cells": [
  {
   "cell_type": "markdown",
   "id": "9d68978e",
   "metadata": {},
   "source": [
    "<div style=\"background-color: #ffffff; color: #000000; padding: 10px;\">\n",
    "<div style=\"display: flex; justify-content: space-between; align-items: center; background-color: #ffffff; color: #000000; padding: 10px;\">\n",
    "    <img src=\"../00_aisc/img/logo_aisc_150dpi.png\" height=\"80\" style=\"margin-right: auto;\" alt=\"Logo of the AI Service Center Berlin-Brandenburg.\">\n",
    "    <img src=\"../00_aisc/img/logo_bmftr_de.png\" height=\"150\" style=\"margin-left: auto;\" alt=\"Logo of the German Federal Ministry of Research, Technology and Space: Gefördert vom Bundesministerium für Forschung, Technologie und Raumfahrt.\">\n",
    "</div>\n",
    "<h1> KISZ Getting Started - Workshop Overview\n",
    "</div>"
   ]
  },
  {
   "cell_type": "markdown",
   "id": "c6687524",
   "metadata": {},
   "source": [
    "<div style=\"background-color: #f6a800; color: #ffffff; padding: 10px;\">\n",
    "    <h2> Overview\n",
    "</div>"
   ]
  },
  {
   "cell_type": "markdown",
   "id": "c7e7779e",
   "metadata": {},
   "source": [
    "Welcome to the KISZ Getting Started workshop series! These notebooks will guide you through essential development tools and workflows that are commonly used in modern AI and software development projects.\n",
    "\n",
    "## What You'll Learn\n",
    "\n",
    "This workshop series is designed to take you from beginner to competent in the following areas:\n",
    "\n",
    "### Python Environment Management with UV\n",
    "- Understanding virtual environments and why they matter\n",
    "- Installing and configuring UV package manager\n",
    "- Creating, activating, and managing Python environments\n",
    "- Installing packages and managing dependencies\n",
    "\n",
    "### Jupyter Notebook Development\n",
    "- Setting up Jupyter in your development environment\n",
    "- Understanding notebook structure and workflow\n",
    "- Running code cells and working with different cell types\n",
    "- Integrating notebooks with virtual environments\n",
    "\n",
    "### Working with Development Environments\n",
    "- Connecting Jupyter notebooks to specific Python environments\n",
    "- Managing project dependencies with requirements.txt files\n",
    "- Best practices for reproducible development setups\n",
    "\n",
    "### AI Integration with Ollama\n",
    "- Installing and configuring Ollama for local AI models\n",
    "- Downloading and running language models locally\n",
    "- Building applications that integrate with AI models\n",
    "- Understanding prompt engineering basics\n",
    "\n",
    "### Real-World Application\n",
    "- Applying your skills to work with existing repositories\n",
    "- Cloning and setting up projects from GitHub\n",
    "- Understanding project structure and dependencies"
   ]
  },
  {
   "cell_type": "markdown",
   "id": "b2151589",
   "metadata": {},
   "source": [
    "<div style=\"background-color: #dd6108; color: #ffffff; padding: 10px;\">\n",
    "<h3>1. Prerequisites and Setup</h3>\n",
    "</div>"
   ]
  },
  {
   "cell_type": "markdown",
   "id": "404a1563",
   "metadata": {},
   "source": [
    "Before starting these notebooks, make sure you have completed the setup guide for your operating system:\n",
    "\n",
    "- **Windows Users**: Follow the [Windows Setup Guide](../windows-setup.md)\n",
    "- **macOS Users**: Follow the [macOS Setup Guide](../macos-setup.md)  \n",
    "- **Linux Users**: Follow the [Linux Setup Guide](../linux-setup.md)\n",
    "\n",
    "You should have the following installed and working:\n",
    "- Visual Studio Code\n",
    "- Python 3.11 with UV package manager\n",
    "- This repository cloned and opened in VS Code\n",
    "- Jupyter notebooks working in VS Code\n",
    "- Docker Desktop (or Docker Engine for Linux)\n",
    "- Ollama with llama3.2:1b model downloaded\n",
    "\n",
    "#### Using Your Virtual Environment\n",
    "\n",
    "During setup, you created a virtual environment in `.venv` with all required packages. To use it with these notebooks:\n",
    "\n",
    "**1. Activate the Environment (if using terminal):**\n",
    "```bash\n",
    "# Navigate to the project directory\n",
    "cd ~/kisz/kisz-getting-started\n",
    "\n",
    "# Activate the virtual environment\n",
    "source .venv/bin/activate  # Linux/macOS\n",
    "# or\n",
    ".venv\\Scripts\\activate     # Windows\n",
    "```\n",
    "\n",
    "**2. Select Python Interpreter in VS Code:**\n",
    "- Open any notebook (like this one)\n",
    "- Click the Python version or \"Select Kernel\" in the top-right corner of VS Code\n",
    "- Select the interpreter from `.venv/bin/python` (or `.venv\\Scripts\\python.exe` on Windows): The python version should be 3.11.+\n",
    "- This ensures notebooks use the correct environment with all packages installed\n",
    "\n",
    "**3. Verify Environment Selection:**\n",
    "The Python interpreter path should show something like:\n",
    "- Linux/macOS: `~/kisz/kisz-getting-started/.venv/bin/python`\n",
    "- Windows: `C:\\Users\\YourName\\kisz\\kisz-getting-started\\.venv\\Scripts\\python.exe`\n",
    "\n",
    "#### Quick Environment Check\n",
    "\n",
    "Run this cell to verify your environment is set up correctly:"
   ]
  },
  {
   "cell_type": "code",
   "execution_count": 4,
   "id": "1418d321",
   "metadata": {},
   "outputs": [
    {
     "name": "stdout",
     "output_type": "stream",
     "text": [
      "Environment Check\n",
      "==============================\n",
      "Python version: 3.11.9 (main, Jul  9 2025, 14:17:03) [GCC 11.4.0]\n",
      "Virtual environment: Active\n",
      "jupyter: 1.0.0\n",
      "pandas: 2.1.4\n",
      "numpy: 1.26.2\n",
      "requests: 2.31.0\n",
      "ollama: 0.1.7\n",
      "\n",
      "Ready to start the workshops!\n"
     ]
    },
    {
     "name": "stderr",
     "output_type": "stream",
     "text": [
      "/tmp/ipykernel_292222/3018557485.py:4: UserWarning: pkg_resources is deprecated as an API. See https://setuptools.pypa.io/en/latest/pkg_resources.html. The pkg_resources package is slated for removal as early as 2025-11-30. Refrain from using this package or pin to Setuptools<81.\n",
      "  import pkg_resources\n"
     ]
    }
   ],
   "source": [
    "# Environment verification\n",
    "import sys\n",
    "import subprocess\n",
    "import pkg_resources\n",
    "\n",
    "print(\"Environment Check\")\n",
    "print(\"=\" * 30)\n",
    "\n",
    "# Check Python version\n",
    "print(f\"Python version: {sys.version}\")\n",
    "\n",
    "# Check if we're in a virtual environment\n",
    "if hasattr(sys, 'real_prefix') or (hasattr(sys, 'base_prefix') and sys.base_prefix != sys.prefix):\n",
    "    print(\"Virtual environment: Active\")\n",
    "else:\n",
    "    print(\"Virtual environment: Not active\")\n",
    "\n",
    "# Check key packages\n",
    "required_packages = ['jupyter', 'pandas', 'numpy', 'requests', 'ollama']\n",
    "for package in required_packages:\n",
    "    try:\n",
    "        version = pkg_resources.get_distribution(package).version\n",
    "        print(f\"{package}: {version}\")\n",
    "    except pkg_resources.DistributionNotFound:\n",
    "        print(f\"{package}: Not installed\")\n",
    "\n",
    "print(\"\\nReady to start the workshops!\")"
   ]
  },
  {
   "cell_type": "markdown",
   "id": "5731f35f",
   "metadata": {},
   "source": [
    "<div style=\"background-color: #dd6108; color: #ffffff; padding: 10px;\">\n",
    "<h3>2. Workshop Structure</h3>\n",
    "</div>"
   ]
  },
  {
   "cell_type": "markdown",
   "id": "8469770b",
   "metadata": {},
   "source": [
    "This workshop series consists of 3 hands-on notebooks that build upon each other:\n",
    "\n",
    "### **01_uv_environment_management.ipynb**\n",
    "Learn how to create and manage Python virtual environments using UV. You'll understand why environments are important, how to use them effectively, and how to work with requirements files for project collaboration.\n",
    "\n",
    "### **02_jupyter_basics.ipynb** \n",
    "Master the basics of Jupyter notebooks - understand different cell types (markdown vs. Python), run simple code, and create custom functions.\n",
    "\n",
    "### **03_ollama_and_llm_prompting.ipynb**\n",
    "Get hands-on with AI models using Ollama. Learn how to interact with language models through simple prompts and understand the basics of AI integration.\n",
    "\n",
    "#### Next Steps\n",
    "\n",
    "1. **Complete each notebook in order** - they build on each other\n",
    "2. **Run all code cells** - hands-on practice is essential  \n",
    "3. **Experiment** - try modifying the examples with your own ideas\n",
    "4. **Apply your knowledge** - use the example chatbot application to see everything working together\n",
    "\n",
    "Ready to start? Head to the first notebook: **01_uv_environment_management.ipynb**"
   ]
  },
  {
   "cell_type": "markdown",
   "id": "2f0d02af",
   "metadata": {},
   "source": []
  }
 ],
 "metadata": {
  "kernelspec": {
   "display_name": ".venv",
   "language": "python",
   "name": "python3"
  },
  "language_info": {
   "codemirror_mode": {
    "name": "ipython",
    "version": 3
   },
   "file_extension": ".py",
   "mimetype": "text/x-python",
   "name": "python",
   "nbconvert_exporter": "python",
   "pygments_lexer": "ipython3",
   "version": "3.11.9"
  }
 },
 "nbformat": 4,
 "nbformat_minor": 5
}
