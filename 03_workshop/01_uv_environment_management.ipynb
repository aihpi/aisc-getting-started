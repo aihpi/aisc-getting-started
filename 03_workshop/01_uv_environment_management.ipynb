{
 "cells": [
  {
   "cell_type": "markdown",
   "id": "fd4c08da",
   "metadata": {},
   "source": [
    "<h1> AISC Getting Started - UV Environment Management"
   ]
  },
  {
   "cell_type": "markdown",
   "id": "320c0bdb",
   "metadata": {},
   "source": [
    "<div style=\"background-color: #f6a800; color: #ffffff; padding: 10px;\">\n",
    "    <h2> Teil 1 - UV Environment Management\n",
    "</div>"
   ]
  },
  {
   "cell_type": "markdown",
   "id": "c1d93d33",
   "metadata": {},
   "source": [
    "In this notebook, you'll learn how to use UV (Ultra-fast Python package manager) to create and manage Python virtual environments. Virtual environments are essential for Python development as they allow you to isolate project dependencies.\n",
    "\n",
    "## What are Virtual Environments?\n",
    "\n",
    "Virtual environments are isolated Python installations that allow you to:\n",
    "- Install different package versions for different projects\n",
    "- Avoid conflicts between project dependencies  \n",
    "- Keep your system Python clean\n",
    "- Share exact project requirements with others\n",
    "\n",
    "## Why UV?\n",
    "\n",
    "UV is a modern, fast Python package manager that:\n",
    "- Installs packages 10-100x faster than pip\n",
    "- Provides reliable dependency resolution\n",
    "- Works seamlessly with existing Python tools\n",
    "- Has excellent virtual environment management\n",
    "\n",
    "Let's get started!"
   ]
  },
  {
   "cell_type": "markdown",
   "id": "0c9a42d7",
   "metadata": {},
   "source": [
    "<div style=\"background-color: #dd6108; color: #ffffff; padding: 10px;\">\n",
    "<h3>1. Basic UV Commands</h3>\n",
    "</div>"
   ]
  },
  {
   "cell_type": "markdown",
   "id": "c9fae548",
   "metadata": {},
   "source": [
    "Let's explore the most important UV commands. Note: Since we're in a Jupyter notebook, we'll use `!` to run terminal commands."
   ]
  },
  {
   "cell_type": "code",
   "execution_count": 1,
   "id": "1d11236f",
   "metadata": {},
   "outputs": [
    {
     "name": "stdout",
     "output_type": "stream",
     "text": [
      "uv 0.7.19\n"
     ]
    }
   ],
   "source": [
    "# Check UV version to make sure it's installed\n",
    "!uv --version"
   ]
  },
  {
   "cell_type": "markdown",
   "id": "e8b139b4",
   "metadata": {},
   "source": [
    "<div style=\"background-color: #dd6108; color: #ffffff; padding: 10px;\">\n",
    "<h3>2. Working with pyproject.toml and uv sync</h3>\n",
    "</div>"
   ]
  },
  {
   "cell_type": "markdown",
   "id": "9e1acd74",
   "metadata": {},
   "source": [
    "Now you'll learn how to work with Python environments using UV, specifically how to create environments from a `pyproject.toml` file. This is a modern and robust way to manage dependencies for your project.\n",
    "\n",
    "## pyproject.toml\n",
    "A `pyproject.toml` file lists all the Python packages (and their versions) that a project needs. This allows anyone to recreate the exact same environment needed to run the project, and is the recommended approach for new Python projects.\n",
    "\n",
    "Example `pyproject.toml` dependencies section:\n",
    "```toml\n",
    "[project.dependencies]\n",
    "pandas = \"2.1.4\"\n",
    "numpy = \"1.26.2\"\n",
    "requests = \"2.31.0\"\n",
    "```\n",
    "\n",
    "Let's explore how UV makes working with `pyproject.toml` easy and fast!"
   ]
  },
  {
   "cell_type": "markdown",
   "id": "905e5f34",
   "metadata": {},
   "source": [
    "<div style=\"background-color: #dd6108; color: #ffffff; padding: 10px;\">\n",
    "<h3>3. Creating an Environment from pyproject.toml</h3>\n",
    "</div>"
   ]
  },
  {
   "cell_type": "markdown",
   "id": "aa9af484",
   "metadata": {},
   "source": [
    "Let's look at our current `pyproject.toml` file and see how UV can install everything automatically:"
   ]
  },
  {
   "cell_type": "code",
   "execution_count": 2,
   "id": "9b179a7c",
   "metadata": {},
   "outputs": [
    {
     "name": "stdout",
     "output_type": "stream",
     "text": [
      "Current requirements.txt:\n",
      "==============================\n",
      "jupyter==1.0.0\n",
      "notebook==7.0.6\n",
      "ipykernel==6.26.0\n",
      "jupyterlab==4.0.9\n",
      "matplotlib==3.8.2\n",
      "pandas==2.1.4\n",
      "numpy==1.26.2\n",
      "requests==2.31.0\n",
      "python-dotenv==1.0.0\n",
      "ollama==0.1.7\n",
      "\n",
      "\n",
      "Currently installed packages:\n",
      "===================================\n",
      "✓ ipykernel\n",
      "✓ jupyter\n",
      "✓ jupyterlab\n",
      "✓ matplotlib\n",
      "✓ notebook\n",
      "✓ numpy\n",
      "✓ ollama\n",
      "✓ pandas\n",
      "✓ python-dotenv\n",
      "✓ requests\n"
     ]
    },
    {
     "name": "stderr",
     "output_type": "stream",
     "text": [
      "/tmp/ipykernel_296407/60686005.py:10: UserWarning: pkg_resources is deprecated as an API. See https://setuptools.pypa.io/en/latest/pkg_resources.html. The pkg_resources package is slated for removal as early as 2025-11-30. Refrain from using this package or pin to Setuptools<81.\n",
      "  import pkg_resources\n"
     ]
    }
   ],
   "source": [
    "# Let's look at our requirements.txt file\n",
    "with open('requirements.txt', 'r') as f:\n",
    "    requirements = f.read()\n",
    "    \n",
    "print(\"Current requirements.txt:\")\n",
    "print(\"=\" * 30)\n",
    "print(requirements)\n",
    "\n",
    "# Show which packages are currently installed\n",
    "import pkg_resources\n",
    "print(\"\\nCurrently installed packages:\")\n",
    "print(\"=\" * 35)\n",
    "installed_packages = [d.project_name for d in pkg_resources.working_set]\n",
    "for package in sorted(installed_packages):\n",
    "    if package in requirements.lower():\n",
    "        print(f\"✓ {package}\")\n",
    "    elif package in ['jupyter', 'notebook', 'ipykernel']:  # Common notebook packages\n",
    "        print(f\"✓ {package} (notebook dependency)\")"
   ]
  }
 ],
 "metadata": {
  "kernelspec": {
   "display_name": ".venv",
   "language": "python",
   "name": "python3"
  },
  "language_info": {
   "codemirror_mode": {
    "name": "ipython",
    "version": 3
   },
   "file_extension": ".py",
   "mimetype": "text/x-python",
   "name": "python",
   "nbconvert_exporter": "python",
   "pygments_lexer": "ipython3",
   "version": "3.11.9"
  }
 },
 "nbformat": 4,
 "nbformat_minor": 5
}
