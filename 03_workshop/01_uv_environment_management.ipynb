{
 "cells": [
  {
   "cell_type": "markdown",
   "id": "fd4c08da",
   "metadata": {},
   "source": [
    "<h1> AISC Getting Started - UV Environment Management"
   ]
  },
  {
   "cell_type": "markdown",
   "id": "320c0bdb",
   "metadata": {},
   "source": [
    "<div style=\"background-color: #f6a800; color: #ffffff; padding: 10px;\">\n",
    "    <h2> Teil 1 - UV Environment Management\n",
    "</div>"
   ]
  },
  {
   "cell_type": "markdown",
   "id": "c1d93d33",
   "metadata": {},
   "source": [
    "In this notebook, you'll learn how to use UV (Ultra-fast Python package manager) to create and manage Python virtual environments. Virtual environments are essential for Python development as they allow you to isolate project dependencies.\n",
    "\n",
    "## What are Virtual Environments?\n",
    "\n",
    "Virtual environments are isolated Python installations that allow you to:\n",
    "- Install different package versions for different projects\n",
    "- Avoid conflicts between project dependencies  \n",
    "- Keep your system Python clean\n",
    "- Share exact project requirements with others\n",
    "\n",
    "## Why UV?\n",
    "\n",
    "UV is a modern, fast Python package manager that:\n",
    "- Installs packages 10-100x faster than pip\n",
    "- Provides reliable dependency resolution\n",
    "- Works seamlessly with existing Python tools\n",
    "- Has excellent virtual environment management\n",
    "\n",
    "Let's get started!"
   ]
  },
  {
   "cell_type": "markdown",
   "id": "0c9a42d7",
   "metadata": {},
   "source": [
    "<div style=\"background-color: #dd6108; color: #ffffff; padding: 10px;\">\n",
    "<h3>1. Basic UV Commands</h3>\n",
    "</div>"
   ]
  },
  {
   "cell_type": "markdown",
   "id": "c9fae548",
   "metadata": {},
   "source": [
    "Let's explore the most important UV commands. Note: Since we're in a Jupyter notebook, we'll use `!` to run terminal commands."
   ]
  },
  {
   "cell_type": "code",
   "execution_count": 1,
   "id": "1d11236f",
   "metadata": {},
   "outputs": [
    {
     "name": "stdout",
     "output_type": "stream",
     "text": [
      "uv 0.7.19\n"
     ]
    }
   ],
   "source": [
    "# Check UV version to make sure it's installed\n",
    "!uv --version"
   ]
  },
  {
   "cell_type": "markdown",
   "id": "e8b139b4",
   "metadata": {},
   "source": [
    "<div style=\"background-color: #dd6108; color: #ffffff; padding: 10px;\">\n",
    "<h3>2. Working with pyproject.toml and uv sync</h3>\n",
    "</div>"
   ]
  },
  {
   "cell_type": "markdown",
   "id": "9e1acd74",
   "metadata": {},
   "source": [
    "Now you'll learn how to work with Python environments using UV, specifically how to create environments from a `pyproject.toml` file. This is a modern and robust way to manage dependencies for your project.\n",
    "\n",
    "## pyproject.toml\n",
    "A `pyproject.toml` file lists all the Python packages (and their versions) that a project needs. This allows anyone to recreate the exact same environment needed to run the project, and is the recommended approach for new Python projects.\n",
    "\n",
    "Example `pyproject.toml` dependencies section:\n",
    "```toml\n",
    "[project.dependencies]\n",
    "pandas = \"2.1.4\"\n",
    "numpy = \"1.26.2\"\n",
    "requests = \"2.31.0\"\n",
    "```\n",
    "\n",
    "Let's explore how UV makes working with `pyproject.toml` easy and fast!"
   ]
  },
  {
   "cell_type": "markdown",
   "id": "905e5f34",
   "metadata": {},
   "source": [
    "<div style=\"background-color: #dd6108; color: #ffffff; padding: 10px;\">\n",
    "<h3>3. Creating an Environment from pyproject.toml</h3>\n",
    "</div>"
   ]
  },
  {
   "cell_type": "markdown",
   "id": "aa9af484",
   "metadata": {},
   "source": [
    "Let's look at our current `pyproject.toml` file and see how UV can install everything automatically:"
   ]
  },
  {
   "cell_type": "code",
   "execution_count": 5,
   "id": "449df3a8",
   "metadata": {},
   "outputs": [
    {
     "name": "stdout",
     "output_type": "stream",
     "text": [
      "Current pyproject.toml dependencies:\n",
      "========================================\n",
      "jupyter==1.0.0\n",
      "notebook==7.0.6\n",
      "ipykernel==6.26.0\n",
      "jupyterlab==4.0.9\n",
      "matplotlib==3.8.2\n",
      "pandas==2.1.4\n",
      "numpy==1.26.2\n",
      "requests==2.31.0\n",
      "python-dotenv==1.0.0\n",
      "ollama==0.1.7\n",
      "toml==0.10.2\n",
      "setuptools==80.9.0\n",
      "\n",
      "Currently installed packages:\n",
      "===================================\n",
      "✓ ipykernel\n",
      "✓ jupyter\n",
      "✓ jupyterlab\n",
      "✓ matplotlib\n",
      "✓ notebook\n",
      "✓ numpy\n",
      "✓ ollama\n",
      "✓ pandas\n",
      "✓ python-dotenv\n",
      "✓ requests\n",
      "✓ setuptools\n",
      "✓ toml\n"
     ]
    }
   ],
   "source": [
    "import toml\n",
    "\n",
    "# Read dependencies from pyproject.toml\n",
    "pyproject = toml.load('pyproject.toml')\n",
    "dependencies = pyproject['project']['dependencies']\n",
    "\n",
    "print(\"Current pyproject.toml dependencies:\")\n",
    "print(\"=\" * 40)\n",
    "for dep in dependencies:\n",
    "    print(dep)\n",
    "\n",
    "# Show which packages are currently installed\n",
    "import pkg_resources\n",
    "print(\"\\nCurrently installed packages:\")\n",
    "print(\"=\" * 35)\n",
    "installed_packages = [d.project_name for d in pkg_resources.working_set]\n",
    "for package in sorted(installed_packages):\n",
    "    # Check if package is in dependencies (by name)\n",
    "    if any(package.lower() in dep.lower() for dep in dependencies):\n",
    "        print(f\"✓ {package}\")\n",
    "    elif package in ['jupyter', 'notebook', 'ipykernel']:\n",
    "        print(f\"✓ {package} (notebook dependency)\")"
   ]
  }
 ],
 "metadata": {
  "kernelspec": {
   "display_name": "Python (.venv - aisc-getting-started)",
   "language": "python",
   "name": "aisc-venv"
  },
  "language_info": {
   "codemirror_mode": {
    "name": "ipython",
    "version": 3
   },
   "file_extension": ".py",
   "mimetype": "text/x-python",
   "name": "python",
   "nbconvert_exporter": "python",
   "pygments_lexer": "ipython3",
   "version": "3.11.13"
  }
 },
 "nbformat": 4,
 "nbformat_minor": 5
}
