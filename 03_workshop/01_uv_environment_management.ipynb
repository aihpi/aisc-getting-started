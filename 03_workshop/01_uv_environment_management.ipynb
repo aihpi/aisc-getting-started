{
 "cells": [
  {
   "cell_type": "markdown",
   "id": "fd4c08da",
   "metadata": {},
   "source": [
    "<div style=\"background-color: #ffffff; color: #000000; padding: 10px;\">\n",
    "<div style=\"display: flex; justify-content: space-between; align-items: center; background-color: #ffffff; color: #000000; padding: 10px;\">\n",
    "    <img src=\"../00_aisc/img/logo_aisc_150dpi.png\" height=\"80\" style=\"margin-right: auto;\" alt=\"Logo of the AI Service Center Berlin-Brandenburg.\">\n",
    "    <img src=\"../00_aisc/img/logo_bmftr_de.png\" height=\"150\" style=\"margin-left: auto;\" alt=\"Logo of the German Federal Ministry of Research, Technology and Space: Gefördert vom Bundesministerium für Forschung, Technologie und Raumfahrt.\">\n",
    "</div>\n",
    "<h1> KISZ Getting Started - UV Environment Management\n",
    "</div>"
   ]
  },
  {
   "cell_type": "markdown",
   "id": "320c0bdb",
   "metadata": {},
   "source": [
    "<div style=\"background-color: #f6a800; color: #ffffff; padding: 10px;\">\n",
    "    <h2> Teil 1 - UV Environment Management\n",
    "</div>"
   ]
  },
  {
   "cell_type": "markdown",
   "id": "c1d93d33",
   "metadata": {},
   "source": [
    "In this notebook, you'll learn how to use UV (Ultra-fast Python package manager) to create and manage Python virtual environments. Virtual environments are essential for Python development as they allow you to isolate project dependencies.\n",
    "\n",
    "## What are Virtual Environments?\n",
    "\n",
    "Virtual environments are isolated Python installations that allow you to:\n",
    "- Install different package versions for different projects\n",
    "- Avoid conflicts between project dependencies  \n",
    "- Keep your system Python clean\n",
    "- Share exact project requirements with others\n",
    "\n",
    "## Why UV?\n",
    "\n",
    "UV is a modern, fast Python package manager that:\n",
    "- Installs packages 10-100x faster than pip\n",
    "- Provides reliable dependency resolution\n",
    "- Works seamlessly with existing Python tools\n",
    "- Has excellent virtual environment management\n",
    "\n",
    "Let's get started!"
   ]
  },
  {
   "cell_type": "markdown",
   "id": "0c9a42d7",
   "metadata": {},
   "source": [
    "<div style=\"background-color: #dd6108; color: #ffffff; padding: 10px;\">\n",
    "<h3>1. Basic UV Commands</h3>\n",
    "</div>"
   ]
  },
  {
   "cell_type": "markdown",
   "id": "c9fae548",
   "metadata": {},
   "source": [
    "Let's explore the most important UV commands. Note: Since we're in a Jupyter notebook, we'll use `!` to run terminal commands."
   ]
  },
  {
   "cell_type": "code",
   "execution_count": 1,
   "id": "1d11236f",
   "metadata": {},
   "outputs": [
    {
     "name": "stdout",
     "output_type": "stream",
     "text": [
      "uv 0.7.19\n"
     ]
    }
   ],
   "source": [
    "# Check UV version to make sure it's installed\n",
    "!uv --version"
   ]
  },
  {
   "cell_type": "markdown",
   "id": "e8b139b4",
   "metadata": {},
   "source": [
    "<div style=\"background-color: #dd6108; color: #ffffff; padding: 10px;\">\n",
    "<h3>2. Working with Requirements Files</h3>\n",
    "</div>"
   ]
  },
  {
   "cell_type": "markdown",
   "id": "9e1acd74",
   "metadata": {},
   "source": [
    "Now you'll learn how to work with Python environments using UV, specifically how to create environments from requirements files. This is a crucial skill for working with existing projects and collaborating with others.\n",
    "\n",
    "## Requirements Files\n",
    "\n",
    "A `requirements.txt` file lists all the Python packages (and their versions) that a project needs. This allows anyone to recreate the exact same environment needed to run the project.\n",
    "\n",
    "Example requirements.txt:\n",
    "```\n",
    "pandas==2.1.4\n",
    "numpy==1.26.2\n",
    "requests==2.31.0\n",
    "```\n",
    "\n",
    "Let's explore how UV makes working with requirements files easy and fast!"
   ]
  },
  {
   "cell_type": "markdown",
   "id": "905e5f34",
   "metadata": {},
   "source": [
    "<div style=\"background-color: #dd6108; color: #ffffff; padding: 10px;\">\n",
    "<h3>3. Creating an Environment from Requirements</h3>\n",
    "</div>"
   ]
  },
  {
   "cell_type": "markdown",
   "id": "aa9af484",
   "metadata": {},
   "source": [
    "Let's look at our current requirements.txt file and see how UV can install everything automatically:"
   ]
  },
  {
   "cell_type": "code",
   "execution_count": null,
   "id": "9b179a7c",
   "metadata": {},
   "outputs": [],
   "source": [
    "# Let's look at our requirements.txt file\n",
    "with open('requirements.txt', 'r') as f:\n",
    "    requirements = f.read()\n",
    "    \n",
    "print(\"Current requirements.txt:\")\n",
    "print(\"=\" * 30)\n",
    "print(requirements)\n",
    "\n",
    "# Show which packages are currently installed\n",
    "import pkg_resources\n",
    "print(\"\\nCurrently installed packages:\")\n",
    "print(\"=\" * 35)\n",
    "installed_packages = [d.project_name for d in pkg_resources.working_set]\n",
    "for package in sorted(installed_packages):\n",
    "    if package in requirements.lower():\n",
    "        print(f\"✓ {package}\")\n",
    "    elif package in ['jupyter', 'notebook', 'ipykernel']:  # Common notebook packages\n",
    "        print(f\"✓ {package} (notebook dependency)\")"
   ]
  }
 ],
 "metadata": {
  "kernelspec": {
   "display_name": ".venv",
   "language": "python",
   "name": "python3"
  },
  "language_info": {
   "codemirror_mode": {
    "name": "ipython",
    "version": 3
   },
   "file_extension": ".py",
   "mimetype": "text/x-python",
   "name": "python",
   "nbconvert_exporter": "python",
   "pygments_lexer": "ipython3",
   "version": "3.11.9"
  }
 },
 "nbformat": 4,
 "nbformat_minor": 5
}
