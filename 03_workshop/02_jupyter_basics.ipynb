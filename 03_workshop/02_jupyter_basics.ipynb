{
 "cells": [
  {
   "cell_type": "markdown",
   "id": "72f13f7d",
   "metadata": {},
   "source": [
    "<h1> AISC Getting Started - Jupyter Basics"
   ]
  },
  {
   "cell_type": "markdown",
   "id": "e5f8ad6b",
   "metadata": {},
   "source": [
    "<div style=\"background-color: #f6a800; color: #ffffff; padding: 10px;\">\n",
    "    <h2> Teil 2 - Jupyter Basics\n",
    "</div>"
   ]
  },
  {
   "cell_type": "markdown",
   "id": "b6003904",
   "metadata": {},
   "source": [
    "This notebook will teach you the basics of working with Jupyter, including different cell types and running Python code.\n",
    "\n",
    "## What are Jupyter Notebooks?\n",
    "\n",
    "Jupyter notebooks are interactive documents that combine:\n",
    "- **Code** - Python code that can be executed\n",
    "- **Text** - Documentation and explanations (like this cell!)\n",
    "- **Output** - Results from running code (tables, charts, text)\n",
    "\n",
    "## Cell Types\n",
    "\n",
    "There are two main types of cells you'll use:\n",
    "\n",
    "1. **Markdown cells** - For text, documentation, and explanations (like this cell)\n",
    "2. **Code cells** - For Python code that can be executed\n",
    "\n",
    "You can change cell types using the dropdown in the toolbar or keyboard shortcuts."
   ]
  },
  {
   "cell_type": "markdown",
   "id": "5654d2d1",
   "metadata": {},
   "source": [
    "<div style=\"background-color: #dd6108; color: #ffffff; padding: 10px;\">\n",
    "<h3>1. Your First Python Code</h3>\n",
    "</div>"
   ]
  },
  {
   "cell_type": "markdown",
   "id": "a19a81ea",
   "metadata": {},
   "source": [
    "Let's start with the classic \"Hello, World!\" example. Click on the cell below and press **Shift + Enter** to run it:"
   ]
  },
  {
   "cell_type": "code",
   "execution_count": 1,
   "id": "38246ebc",
   "metadata": {},
   "outputs": [
    {
     "name": "stdout",
     "output_type": "stream",
     "text": [
      "Hello, World!\n",
      "Welcome to Jupyter notebooks!\n"
     ]
    }
   ],
   "source": [
    "# This is a Python code cell\n",
    "print(\"Hello, World!\")\n",
    "print(\"Welcome to Jupyter notebooks!\")"
   ]
  },
  {
   "cell_type": "markdown",
   "id": "3946782c",
   "metadata": {},
   "source": [
    "Great! Now let's try a for-loop that counts down from 3 to 1:"
   ]
  },
  {
   "cell_type": "code",
   "execution_count": 2,
   "id": "691ec2e8",
   "metadata": {},
   "outputs": [
    {
     "name": "stdout",
     "output_type": "stream",
     "text": [
      "Count: 3\n",
      "Count: 2\n",
      "Count: 1\n",
      "🚀 Launch!\n",
      "\n",
      "Using range():\n",
      "Number: 3\n",
      "Number: 2\n",
      "Number: 1\n"
     ]
    }
   ],
   "source": [
    "# Countdown from 3 to 1\n",
    "for i in [3, 2, 1]:\n",
    "    print(f\"Count: {i}\")\n",
    "\n",
    "print(\"🚀 Launch!\")\n",
    "\n",
    "# You can also use range() for counting\n",
    "print(\"\\nUsing range():\")\n",
    "for i in range(3, 0, -1):  # Start at 3, stop before 0, step by -1\n",
    "    print(f\"Number: {i}\")"
   ]
  },
  {
   "cell_type": "markdown",
   "id": "a67001fb",
   "metadata": {},
   "source": [
    "<div style=\"background-color: #dd6108; color: #ffffff; padding: 10px;\">\n",
    "<h3>2. Creating Custom Functions</h3>\n",
    "</div>"
   ]
  },
  {
   "cell_type": "markdown",
   "id": "eb27512d",
   "metadata": {},
   "source": [
    "Functions help you organise and reuse your code. Let's create a simple function that greets people:"
   ]
  },
  {
   "cell_type": "code",
   "execution_count": 3,
   "id": "f86c2a5e",
   "metadata": {},
   "outputs": [
    {
     "name": "stdout",
     "output_type": "stream",
     "text": [
      "Hello, Alice!\n",
      "Hallo, Bob!\n",
      "Bonjour, Claire!\n",
      "The square of 1 is 1\n",
      "The square of 2 is 4\n",
      "The square of 3 is 9\n",
      "The square of 4 is 16\n",
      "The square of 5 is 25\n"
     ]
    }
   ],
   "source": [
    "# Define a custom function\n",
    "def greet_person(name, language=\"English\"):\n",
    "    \"\"\"\n",
    "    A function that greets a person in different languages\n",
    "    \"\"\"\n",
    "    greetings = {\n",
    "        \"English\": f\"Hello, {name}!\",\n",
    "        \"German\": f\"Hallo, {name}!\",\n",
    "        \"French\": f\"Bonjour, {name}!\",\n",
    "        \"Spanish\": f\"¡Hola, {name}!\"\n",
    "    }\n",
    "    \n",
    "    return greetings.get(language, f\"Hello, {name}!\")\n",
    "\n",
    "# Test the function\n",
    "print(greet_person(\"Alice\"))\n",
    "print(greet_person(\"Bob\", \"German\"))\n",
    "print(greet_person(\"Claire\", \"French\"))\n",
    "\n",
    "# Another useful function - calculate the square of numbers\n",
    "def calculate_square(number):\n",
    "    \"\"\"Calculate the square of a number\"\"\"\n",
    "    return number ** 2\n",
    "\n",
    "# Test it with a few numbers\n",
    "for num in [1, 2, 3, 4, 5]:\n",
    "    square = calculate_square(num)\n",
    "    print(f\"The square of {num} is {square}\")"
   ]
  },
  {
   "cell_type": "markdown",
   "id": "fc2905f6",
   "metadata": {},
   "source": []
  }
 ],
 "metadata": {
  "kernelspec": {
   "display_name": ".venv",
   "language": "python",
   "name": "python3"
  },
  "language_info": {
   "codemirror_mode": {
    "name": "ipython",
    "version": 3
   },
   "file_extension": ".py",
   "mimetype": "text/x-python",
   "name": "python",
   "nbconvert_exporter": "python",
   "pygments_lexer": "ipython3",
   "version": "3.11.9"
  }
 },
 "nbformat": 4,
 "nbformat_minor": 5
}
