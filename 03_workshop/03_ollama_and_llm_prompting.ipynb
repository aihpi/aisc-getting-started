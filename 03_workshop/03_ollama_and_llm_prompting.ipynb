{
 "cells": [
  {
   "cell_type": "markdown",
   "id": "299a87a6",
   "metadata": {},
   "source": [
    "<h1> AISC Getting Started - Ollama and LLM Prompting"
   ]
  },
  {
   "cell_type": "markdown",
   "id": "cb1ae6b7",
   "metadata": {},
   "source": [
    "## What is Ollama?\n",
    "\n",
    "Ollama is a tool that allows you to run large language models (LLMs) locally on your computer. This means you can use AI models like Llama 3.2 without sending data to external servers.\n",
    "\n",
    "In this notebook, you'll learn how to:\n",
    "- Connect to your local Ollama instance\n",
    "- Send simple prompts to an LLM"
   ]
  },
  {
   "cell_type": "markdown",
   "id": "e3240461",
   "metadata": {},
   "source": [
    "## Working with Ollama\n",
    "\n",
    "Now let's connect to Ollama and send some simple prompts. We'll use the `requests` library to communicate with the Ollama API running on your local machine.\n",
    "\n",
    "First, let's import the required library and set up our connection:"
   ]
  },
  {
   "cell_type": "code",
   "execution_count": 2,
   "id": "117f0f75",
   "metadata": {},
   "outputs": [
    {
     "name": "stdout",
     "output_type": "stream",
     "text": [
      "Ollama helper function is ready!\n"
     ]
    }
   ],
   "source": [
    "import requests\n",
    "import json\n",
    "\n",
    "# Ollama API endpoint (running locally)\n",
    "OLLAMA_URL = \"http://localhost:11435/api/generate\"\n",
    "\n",
    "def ask_ollama(prompt, model=\"llama3.2:1b\"):\n",
    "    \"\"\"Send a prompt to Ollama and get a response\"\"\"\n",
    "    \n",
    "    data = {\n",
    "        \"model\": model,\n",
    "        \"prompt\": prompt,\n",
    "        \"stream\": False  # Get complete response at once\n",
    "    }\n",
    "    \n",
    "    try:\n",
    "        response = requests.post(OLLAMA_URL, json=data)\n",
    "        response.raise_for_status()\n",
    "        \n",
    "        result = response.json()\n",
    "        return result.get(\"response\", \"No response received\")\n",
    "        \n",
    "    except requests.exceptions.RequestException as e:\n",
    "        return f\"Error connecting to Ollama: {e}\"\n",
    "\n",
    "print(\"Ollama helper function is ready!\")"
   ]
  },
  {
   "cell_type": "code",
   "execution_count": 3,
   "id": "e6640c8f",
   "metadata": {},
   "outputs": [
    {
     "name": "stdout",
     "output_type": "stream",
     "text": [
      "Question: What is the capital of France?\n",
      "Answer: The capital of France is Paris.\n"
     ]
    }
   ],
   "source": [
    "# Simple prompt: What is the capital of Paris?\n",
    "prompt = \"What is the capital of France?\"\n",
    "response = ask_ollama(prompt)\n",
    "print(f\"Question: {prompt}\")\n",
    "print(f\"Answer: {response}\")"
   ]
  },
  {
   "cell_type": "code",
   "execution_count": 5,
   "id": "6abcfff7",
   "metadata": {},
   "outputs": [
    {
     "name": "stdout",
     "output_type": "stream",
     "text": [
      "Question: What is 2 + 2?\n",
      "Answer: 2 + 2 = 4.\n",
      "\n"
     ]
    }
   ],
   "source": [
    "# Another simple prompt\n",
    "prompt2 = \"What is 2 + 2?\"\n",
    "response2 = ask_ollama(prompt2)\n",
    "print(f\"Question: {prompt2}\")\n",
    "print(f\"Answer: {response2}\")\n",
    "print()"
   ]
  },
  {
   "cell_type": "code",
   "execution_count": 6,
   "id": "0d4b27c1",
   "metadata": {},
   "outputs": [
    {
     "name": "stdout",
     "output_type": "stream",
     "text": [
      "Question: Write a haiku about programming\n",
      "Answer: Lines of code descend\n",
      "Logic's subtle dance unfolds\n",
      "Code's quiet beauty\n"
     ]
    }
   ],
   "source": [
    "# A creative prompt\n",
    "prompt3 = \"Write a haiku about programming\"\n",
    "response3 = ask_ollama(prompt3)\n",
    "print(f\"Question: {prompt3}\")\n",
    "print(f\"Answer: {response3}\")"
   ]
  },
  {
   "cell_type": "markdown",
   "id": "1301cfcb",
   "metadata": {},
   "source": [
    "## Next Steps\n",
    "\n",
    "- Try modifying the prompts to ask different questions\n",
    "- Experiment with different types of prompts (factual, creative, analytical)\n",
    "- Explore the other notebooks in this workshop series\n",
    "\n",
    "Happy coding and prompting!"
   ]
  },
  {
   "cell_type": "markdown",
   "id": "73e9cfc0",
   "metadata": {},
   "source": []
  }
 ],
 "metadata": {
  "kernelspec": {
   "display_name": ".venv",
   "language": "python",
   "name": "python3"
  },
  "language_info": {
   "codemirror_mode": {
    "name": "ipython",
    "version": 3
   },
   "file_extension": ".py",
   "mimetype": "text/x-python",
   "name": "python",
   "nbconvert_exporter": "python",
   "pygments_lexer": "ipython3",
   "version": "3.11.9"
  }
 },
 "nbformat": 4,
 "nbformat_minor": 5
}
